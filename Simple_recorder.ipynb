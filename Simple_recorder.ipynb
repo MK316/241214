{
  "nbformat": 4,
  "nbformat_minor": 0,
  "metadata": {
    "colab": {
      "private_outputs": true,
      "provenance": [],
      "authorship_tag": "ABX9TyMwtX1fTSDK+x0jFHAABdoV",
      "include_colab_link": true
    },
    "kernelspec": {
      "name": "python3",
      "display_name": "Python 3"
    },
    "language_info": {
      "name": "python"
    }
  },
  "cells": [
    {
      "cell_type": "markdown",
      "metadata": {
        "id": "view-in-github",
        "colab_type": "text"
      },
      "source": [
        "<a href=\"https://colab.research.google.com/github/MK316/241214/blob/main/Simple_recorder.ipynb\" target=\"_parent\"><img src=\"https://colab.research.google.com/assets/colab-badge.svg\" alt=\"Open In Colab\"/></a>"
      ]
    },
    {
      "cell_type": "code",
      "source": [
        "!pip install gradio"
      ],
      "metadata": {
        "id": "nHAnwG9S93_K"
      },
      "execution_count": null,
      "outputs": []
    },
    {
      "cell_type": "markdown",
      "source": [
        "### Note that you need to use the live link (generated after running the code below) to use microphone (of your device).\n",
        "\n",
        "- This platform (google colab) doesn't allow direct microphone access from the user's device."
      ],
      "metadata": {
        "id": "JwyW70Z--U8x"
      }
    },
    {
      "cell_type": "code",
      "execution_count": null,
      "metadata": {
        "id": "jhZq1qJZ91uf"
      },
      "outputs": [],
      "source": [
        "import gradio as gr\n",
        "\n",
        "def process_audio(audio):\n",
        "    \"\"\"\n",
        "    Simply returns the audio data for download.\n",
        "    \"\"\"\n",
        "    return audio\n",
        "\n",
        "iface = gr.Interface(\n",
        "    fn=process_audio,\n",
        "    inputs=\"audio\",\n",
        "    outputs=\"audio\",\n",
        "    title=\"Simple Audio Recorder\",\n",
        "    description=\"Record your speech and download the recording in a wav format.\"\n",
        ")\n",
        "\n",
        "iface.launch()"
      ]
    }
  ]
}